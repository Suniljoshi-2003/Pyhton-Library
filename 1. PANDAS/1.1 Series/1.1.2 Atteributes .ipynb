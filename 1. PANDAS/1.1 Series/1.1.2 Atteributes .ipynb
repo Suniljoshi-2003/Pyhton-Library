{
 "cells": [
  {
   "cell_type": "markdown",
   "metadata": {},
   "source": [
    "# Atteributes\n",
    "which does not contains () at the end are know as prameter ."
   ]
  },
  {
   "cell_type": "markdown",
   "metadata": {},
   "source": [
    "# 1. values\n",
    "# 2. shape\n",
    "# 3. size\n",
    "# 4. ndim\n",
    "# 5. is_unique\n",
    "# 6. index"
   ]
  },
  {
   "cell_type": "code",
   "execution_count": 1,
   "metadata": {},
   "outputs": [],
   "source": [
    "import pandas as pd"
   ]
  },
  {
   "cell_type": "code",
   "execution_count": 17,
   "metadata": {},
   "outputs": [],
   "source": [
    "x = pd.Series([\"Python\",\"Pandas\",\"NumPy\",\"Matplotlib\",\"Seborn\",\"Devops\",\"Azore\"])"
   ]
  },
  {
   "cell_type": "code",
   "execution_count": 11,
   "metadata": {},
   "outputs": [
    {
     "name": "stdout",
     "output_type": "stream",
     "text": [
      "0      41\n",
      "1      71\n",
      "2       7\n",
      "3      84\n",
      "4      73\n",
      "       ..\n",
      "995    53\n",
      "996    60\n",
      "997    28\n",
      "998    26\n",
      "999    68\n",
      "Length: 1000, dtype: int32\n"
     ]
    }
   ],
   "source": [
    "# eg.\n",
    "# import numpy as np\n",
    "# x1 = np.random.randint(1,100,1000)\n",
    "\n",
    "# a = pd.Series(x1)\n",
    "# print(a)"
   ]
  },
  {
   "cell_type": "code",
   "execution_count": 18,
   "metadata": {},
   "outputs": [
    {
     "data": {
      "text/plain": [
       "array(['Python', 'Pandas', 'NumPy', 'Matplotlib', 'Seborn', 'Devops',\n",
       "       'Azore'], dtype=object)"
      ]
     },
     "execution_count": 18,
     "metadata": {},
     "output_type": "execute_result"
    }
   ],
   "source": [
    "# values\n",
    "\n",
    "x.values "
   ]
  },
  {
   "cell_type": "code",
   "execution_count": 15,
   "metadata": {},
   "outputs": [
    {
     "data": {
      "text/plain": [
       "array([41, 71,  7, 84, 73, 46, 78, 94, 13, 90, 39, 10, 59, 79, 76, 99, 73,\n",
       "       95, 51, 39, 63, 72, 94, 17,  3, 59,  8, 64, 75, 45, 86,  2, 67, 82,\n",
       "       63, 65, 46, 39, 19, 25, 87, 50, 11, 10, 68, 78, 30, 30, 48, 34, 13,\n",
       "       51, 15, 28, 78, 49, 52, 11, 67, 77, 53, 86, 75, 65, 47, 70, 11, 16,\n",
       "       19, 91, 74, 90, 62, 58, 19, 54, 48,  9, 17, 22, 66, 64, 93, 29, 46,\n",
       "       77, 56, 67, 68, 33, 63, 87, 75,  1, 46, 67, 19, 92, 73, 25, 45, 96,\n",
       "       56, 49, 29, 72,  2, 56, 94, 25, 58, 11, 52, 95, 83, 58, 23, 85, 56,\n",
       "       49, 61, 47, 29, 95,  5, 78, 67, 59, 21, 75, 81, 16, 99, 75, 89, 93,\n",
       "       12, 69, 95, 92, 44,  4, 14, 16, 39, 23, 24, 66,  8, 86, 80, 61, 39,\n",
       "       75, 24, 37, 29, 34, 94,  8, 58, 70, 49,  8, 94, 92, 95, 58, 89, 43,\n",
       "       21, 76, 42, 46, 24,  1, 45, 52, 39, 62, 42, 75, 74, 19, 85, 58, 11,\n",
       "       50, 17, 30, 21, 89, 46, 78, 49, 11, 48, 29, 71, 57, 67, 64, 40, 40,\n",
       "       82, 66, 64, 33, 86, 97, 27, 24, 51, 62, 73, 97, 92, 30, 31, 32, 89,\n",
       "        5, 11, 13, 27, 39, 31, 11, 46, 47,  2, 86, 91, 96, 90, 45,  7, 43,\n",
       "       40, 16, 22, 30, 75, 88, 72, 91, 49, 21,  6, 82, 15, 70, 67, 10,  3,\n",
       "       32, 22, 44, 49, 26, 35, 67,  5, 20, 42, 93, 92, 98, 51,  7, 42, 29,\n",
       "       95, 56, 16, 24, 55, 45,  2, 58,  4, 46, 44, 68, 35, 32, 60, 39, 98,\n",
       "       70, 39, 18, 46,  4, 62, 20, 20,  6, 24,  2, 37, 35, 80, 11, 26, 95,\n",
       "       99, 72, 88, 22, 28, 71, 99, 44, 91,  6, 28, 94, 20, 23, 99, 10, 67,\n",
       "       93, 80, 79, 13, 66, 23, 75, 60, 88, 30, 10, 81, 14, 36, 63, 47, 97,\n",
       "       91, 65, 63, 11, 73, 97, 73, 77,  6, 69, 82, 62, 44, 44, 17, 76, 35,\n",
       "       22, 91, 88, 22, 55, 68, 73, 55, 99, 10, 39, 41, 17, 61, 72, 97, 24,\n",
       "       74, 97, 55, 69, 39,  9, 10, 38, 16, 89,  6, 22, 20, 19,  7, 49, 88,\n",
       "       29, 63, 25, 49, 13, 93, 87, 81, 16, 34, 74, 26, 34, 27, 29, 73, 72,\n",
       "       78, 32, 60, 40, 81,  6, 38, 91, 10, 67, 88,  2, 59, 75, 79, 89, 48,\n",
       "       94, 43, 51, 98, 90, 71, 27, 75, 65, 59, 63, 27, 80, 55, 71, 93, 42,\n",
       "       38, 62,  5,  6, 89,  8, 91, 10, 69, 76, 82, 19, 83, 74, 82, 81,  2,\n",
       "       16, 43, 60, 64, 98, 40, 34, 93,  1, 74, 32, 33, 46, 79, 28, 74, 32,\n",
       "       39, 29, 87, 50, 44, 76,  2, 55, 59,  1, 19, 68, 51, 88, 49, 23, 99,\n",
       "       27, 65, 26, 66, 45, 69, 39, 72, 42, 46, 67, 51, 50,  2, 23, 17, 96,\n",
       "       70, 10, 55, 32, 37, 16, 47, 85, 58, 58, 26, 74, 47, 59, 63, 53, 31,\n",
       "       17,  5, 20, 38, 85, 36, 49, 13, 73, 27,  1, 52, 88, 74, 48, 60, 78,\n",
       "        8, 66, 10, 74,  4, 68, 98, 75, 78, 20, 60, 68, 62, 72, 12, 71, 83,\n",
       "       22, 47, 14, 43, 24, 28, 76, 34, 50, 74,  5, 10, 94, 80, 88, 97,  1,\n",
       "       26, 11, 96, 22, 76, 21, 87,  2, 36, 92, 44, 79, 75, 40, 74, 22, 19,\n",
       "       20, 61, 48, 20, 87, 50, 66, 53, 68, 12, 17, 98, 46, 18,  4, 89, 75,\n",
       "       12, 16, 15, 50, 92, 29, 43, 68, 27, 27, 51, 49, 45, 78, 92, 37, 65,\n",
       "       89, 13, 20, 88, 26, 82, 51, 74, 43,  7, 45, 14, 57, 63, 62, 40,  2,\n",
       "       26, 89, 95, 45, 63, 44, 66, 72, 13, 82, 26, 54, 39, 33,  6, 19, 68,\n",
       "       29, 61, 94, 55, 98, 48, 26, 27, 47, 81, 49, 92, 43, 74, 25, 24, 75,\n",
       "       60, 54, 57, 93,  1, 57, 70, 76, 13, 43, 32, 77,  5, 95, 54, 44,  3,\n",
       "       31, 80, 10, 83, 46, 75, 88, 65, 66, 53, 79, 81, 78, 12, 69, 18, 69,\n",
       "       60, 30,  3, 63, 33, 67, 20, 60, 21, 99, 52, 47, 85, 84, 77, 13, 27,\n",
       "        1, 86, 91, 99, 51, 90, 89, 38, 11, 38, 57, 62, 67, 74, 65, 43, 42,\n",
       "       89, 51, 11, 20,  2, 20, 45, 63, 88, 41, 48, 39, 98, 16, 83, 87, 50,\n",
       "       37, 52, 47, 78, 26, 51, 49,  5, 72, 74, 88, 79, 47, 56, 41, 88, 19,\n",
       "       25, 46, 19, 21, 51, 27, 88, 77, 79, 41, 44, 87, 90,  9, 50, 53, 34,\n",
       "       26, 73, 90, 61, 34, 51, 54, 33, 90, 55, 27,  1, 70, 37, 19, 31, 98,\n",
       "       64, 41,  6, 45, 48, 65,  5, 55, 92, 93, 23, 27, 58, 41, 72, 79, 11,\n",
       "       21, 24, 66,  8, 83, 85, 50,  7,  2, 87, 87, 83, 45, 71, 20, 17, 69,\n",
       "       52, 48, 38, 96, 36, 67, 30, 77, 43, 65, 11, 65, 33, 39,  7, 23, 14,\n",
       "       32, 81, 62, 88, 56, 60, 24, 47, 49, 88, 62, 87, 86, 34, 83, 57, 31,\n",
       "       27, 49, 23, 12, 16, 64, 62, 99, 96, 74, 53, 24, 84, 14, 27, 72, 58,\n",
       "       94, 99, 74, 28, 17, 41, 54, 66, 56, 75, 15, 63, 42, 48, 53, 20, 37,\n",
       "       92, 34, 44, 75, 52, 51, 44,  3, 56,  6, 24, 20, 45, 25, 84, 36, 45,\n",
       "       73, 84, 26, 67, 77,  6, 30,  3, 96, 85, 83, 40, 83, 43, 20, 98, 87,\n",
       "       86, 11, 81,  5, 75, 97, 73, 70, 93, 37, 90, 37, 74, 98, 57, 80, 44,\n",
       "       69, 72, 21, 26, 81, 40, 59, 59,  4, 22, 67, 42, 87, 76, 81, 44, 57,\n",
       "       40, 81, 91, 49, 49, 36, 85, 69, 26, 53, 60, 28, 26, 68],\n",
       "      dtype=int32)"
      ]
     },
     "execution_count": 15,
     "metadata": {},
     "output_type": "execute_result"
    }
   ],
   "source": [
    "a.values # total value return\n",
    "# show all value"
   ]
  },
  {
   "cell_type": "code",
   "execution_count": 21,
   "metadata": {},
   "outputs": [
    {
     "data": {
      "text/plain": [
       "(7,)"
      ]
     },
     "execution_count": 21,
     "metadata": {},
     "output_type": "execute_result"
    }
   ],
   "source": [
    "# shape --> no. of rows, no.of columns\n",
    "x.shape"
   ]
  },
  {
   "cell_type": "code",
   "execution_count": 22,
   "metadata": {},
   "outputs": [
    {
     "data": {
      "text/plain": [
       "(1000,)"
      ]
     },
     "execution_count": 22,
     "metadata": {},
     "output_type": "execute_result"
    }
   ],
   "source": [
    "a.shape"
   ]
  },
  {
   "cell_type": "code",
   "execution_count": 23,
   "metadata": {},
   "outputs": [
    {
     "data": {
      "text/plain": [
       "7"
      ]
     },
     "execution_count": 23,
     "metadata": {},
     "output_type": "execute_result"
    }
   ],
   "source": [
    "# size --> total no. of values\n",
    "x.size"
   ]
  },
  {
   "cell_type": "code",
   "execution_count": 24,
   "metadata": {},
   "outputs": [
    {
     "data": {
      "text/plain": [
       "True"
      ]
     },
     "execution_count": 24,
     "metadata": {},
     "output_type": "execute_result"
    }
   ],
   "source": [
    "#  is_unique --> chack the unique values\n",
    "\n",
    "x.is_unique"
   ]
  },
  {
   "cell_type": "code",
   "execution_count": 27,
   "metadata": {},
   "outputs": [
    {
     "data": {
      "text/plain": [
       "False"
      ]
     },
     "execution_count": 27,
     "metadata": {},
     "output_type": "execute_result"
    }
   ],
   "source": [
    "q= pd.Series(\n",
    "[\"apple\",\"mango\",\"Python\",\"apple\",\"kafka\",\"java\"])\n",
    "\n",
    "q.is_unique "
   ]
  },
  {
   "cell_type": "code",
   "execution_count": 28,
   "metadata": {},
   "outputs": [
    {
     "data": {
      "text/plain": [
       "1"
      ]
     },
     "execution_count": 28,
     "metadata": {},
     "output_type": "execute_result"
    }
   ],
   "source": [
    "# ndim --> no. of dimensions\n",
    "x.ndim"
   ]
  },
  {
   "cell_type": "code",
   "execution_count": 29,
   "metadata": {},
   "outputs": [
    {
     "data": {
      "text/plain": [
       "1"
      ]
     },
     "execution_count": 29,
     "metadata": {},
     "output_type": "execute_result"
    }
   ],
   "source": [
    "q.ndim"
   ]
  },
  {
   "cell_type": "code",
   "execution_count": 30,
   "metadata": {},
   "outputs": [
    {
     "data": {
      "text/plain": [
       "RangeIndex(start=0, stop=7, step=1)"
      ]
     },
     "execution_count": 30,
     "metadata": {},
     "output_type": "execute_result"
    }
   ],
   "source": [
    "#  index \n",
    "x.index"
   ]
  },
  {
   "cell_type": "code",
   "execution_count": 31,
   "metadata": {},
   "outputs": [
    {
     "data": {
      "text/plain": [
       "RangeIndex(start=0, stop=6, step=1)"
      ]
     },
     "execution_count": 31,
     "metadata": {},
     "output_type": "execute_result"
    }
   ],
   "source": [
    "q.index"
   ]
  },
  {
   "cell_type": "code",
   "execution_count": 32,
   "metadata": {},
   "outputs": [
    {
     "data": {
      "text/plain": [
       "dtype('O')"
      ]
     },
     "execution_count": 32,
     "metadata": {},
     "output_type": "execute_result"
    }
   ],
   "source": [
    "q.dtype\n",
    "# o --> object "
   ]
  },
  {
   "cell_type": "code",
   "execution_count": null,
   "metadata": {},
   "outputs": [],
   "source": []
  }
 ],
 "metadata": {
  "kernelspec": {
   "display_name": "Python 3",
   "language": "python",
   "name": "python3"
  },
  "language_info": {
   "codemirror_mode": {
    "name": "ipython",
    "version": 3
   },
   "file_extension": ".py",
   "mimetype": "text/x-python",
   "name": "python",
   "nbconvert_exporter": "python",
   "pygments_lexer": "ipython3",
   "version": "3.13.0"
  }
 },
 "nbformat": 4,
 "nbformat_minor": 2
}

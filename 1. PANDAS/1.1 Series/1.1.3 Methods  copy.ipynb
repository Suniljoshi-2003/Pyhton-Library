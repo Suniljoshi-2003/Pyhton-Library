{
 "cells": [
  {
   "cell_type": "markdown",
   "metadata": {},
   "source": [
    "# Methods\n",
    "# 1. head()\n",
    "# 2. tail()\n",
    "# 3. memory_usage()"
   ]
  },
  {
   "cell_type": "markdown",
   "metadata": {
    "vscode": {
     "languageId": "plaintext"
    }
   },
   "source": [
    "#         1. Head() -->\n",
    "from starting byedefault it will show us the forst 5 entries."
   ]
  },
  {
   "cell_type": "code",
   "execution_count": 6,
   "metadata": {},
   "outputs": [
    {
     "data": {
      "text/plain": [
       "0          pyhton\n",
       "1            java\n",
       "2           kafka\n",
       "3           Azore\n",
       "4             AWS\n",
       "5           Cloud\n",
       "6             GCP\n",
       "7             C++\n",
       "8               C\n",
       "9    Data Science\n",
       "dtype: object"
      ]
     },
     "execution_count": 6,
     "metadata": {},
     "output_type": "execute_result"
    }
   ],
   "source": [
    "import pandas as pd\n",
    "\n",
    "x = pd.Series([\"pyhton\",\"java\",\"kafka\",\"Azore\",\"AWS\",\"Cloud\",\"GCP\",'C++',\"C\",\"Data Science\"])\n",
    "\n",
    "x"
   ]
  },
  {
   "cell_type": "code",
   "execution_count": 7,
   "metadata": {},
   "outputs": [
    {
     "data": {
      "text/plain": [
       "0    pyhton\n",
       "1      java\n",
       "2     kafka\n",
       "3     Azore\n",
       "4       AWS\n",
       "dtype: object"
      ]
     },
     "execution_count": 7,
     "metadata": {},
     "output_type": "execute_result"
    }
   ],
   "source": [
    "# head()\n",
    "\n",
    "x.head()"
   ]
  },
  {
   "cell_type": "code",
   "execution_count": 9,
   "metadata": {},
   "outputs": [
    {
     "data": {
      "text/plain": [
       "0    pyhton\n",
       "1      java\n",
       "2     kafka\n",
       "3     Azore\n",
       "dtype: object"
      ]
     },
     "execution_count": 9,
     "metadata": {},
     "output_type": "execute_result"
    }
   ],
   "source": [
    "# check only 4 etries\n",
    "x.head(4)"
   ]
  },
  {
   "cell_type": "code",
   "execution_count": 19,
   "metadata": {},
   "outputs": [
    {
     "name": "stdout",
     "output_type": "stream",
     "text": [
      "0      19\n",
      "1      34\n",
      "2      28\n",
      "3      19\n",
      "4      27\n",
      "       ..\n",
      "995    67\n",
      "996    59\n",
      "997    41\n",
      "998    90\n",
      "999    11\n",
      "Length: 1000, dtype: int32\n",
      "<class 'pandas.core.series.Series'>\n"
     ]
    }
   ],
   "source": [
    "# eg. \n",
    "# NOTE: \"data create  --> only using\"\n",
    "import numpy as np\n",
    "\n",
    "a =np.random.randint(1,100,1000)\n",
    "\n",
    "z = pd.Series(a)\n",
    "print(z)\n",
    "print(type(z))\n"
   ]
  },
  {
   "cell_type": "code",
   "execution_count": 15,
   "metadata": {},
   "outputs": [
    {
     "data": {
      "text/plain": [
       "0    70\n",
       "1    91\n",
       "2    95\n",
       "3    81\n",
       "4    10\n",
       "dtype: int32"
      ]
     },
     "execution_count": 15,
     "metadata": {},
     "output_type": "execute_result"
    }
   ],
   "source": [
    "z.head() # byedefault starting 5 entries"
   ]
  },
  {
   "cell_type": "code",
   "execution_count": 16,
   "metadata": {},
   "outputs": [
    {
     "data": {
      "text/plain": [
       "0     70\n",
       "1     91\n",
       "2     95\n",
       "3     81\n",
       "4     10\n",
       "5     45\n",
       "6     22\n",
       "7     89\n",
       "8     54\n",
       "9     14\n",
       "10    85\n",
       "11    88\n",
       "12    20\n",
       "13    40\n",
       "14    83\n",
       "15    63\n",
       "16    56\n",
       "17    40\n",
       "18    94\n",
       "19    19\n",
       "20    54\n",
       "21    41\n",
       "22    16\n",
       "23    27\n",
       "24    76\n",
       "25    73\n",
       "26     2\n",
       "27    98\n",
       "28    17\n",
       "29    72\n",
       "dtype: int32"
      ]
     },
     "execution_count": 16,
     "metadata": {},
     "output_type": "execute_result"
    }
   ],
   "source": [
    "z.head(30)"
   ]
  },
  {
   "cell_type": "code",
   "execution_count": 17,
   "metadata": {},
   "outputs": [
    {
     "data": {
      "text/plain": [
       "0     70\n",
       "1     91\n",
       "2     95\n",
       "3     81\n",
       "4     10\n",
       "5     45\n",
       "6     22\n",
       "7     89\n",
       "8     54\n",
       "9     14\n",
       "10    85\n",
       "11    88\n",
       "12    20\n",
       "13    40\n",
       "14    83\n",
       "15    63\n",
       "16    56\n",
       "17    40\n",
       "18    94\n",
       "19    19\n",
       "20    54\n",
       "21    41\n",
       "22    16\n",
       "23    27\n",
       "24    76\n",
       "25    73\n",
       "26     2\n",
       "27    98\n",
       "28    17\n",
       "29    72\n",
       "30    22\n",
       "31     2\n",
       "32    62\n",
       "33     6\n",
       "34    14\n",
       "35    26\n",
       "36    12\n",
       "37    83\n",
       "38    14\n",
       "39    62\n",
       "40    36\n",
       "41    27\n",
       "42     9\n",
       "43    93\n",
       "44    65\n",
       "45     2\n",
       "46    36\n",
       "47    16\n",
       "48    56\n",
       "49     7\n",
       "50    78\n",
       "51    34\n",
       "52    58\n",
       "53    77\n",
       "54    19\n",
       "55    65\n",
       "56    32\n",
       "57    57\n",
       "58    35\n",
       "59    74\n",
       "dtype: int32"
      ]
     },
     "execution_count": 17,
     "metadata": {},
     "output_type": "execute_result"
    }
   ],
   "source": [
    "z.head(60) # max to max limit is 60"
   ]
  },
  {
   "cell_type": "code",
   "execution_count": 18,
   "metadata": {},
   "outputs": [
    {
     "data": {
      "text/plain": [
       "0     70\n",
       "1     91\n",
       "2     95\n",
       "3     81\n",
       "4     10\n",
       "      ..\n",
       "56    32\n",
       "57    57\n",
       "58    35\n",
       "59    74\n",
       "60    65\n",
       "Length: 61, dtype: int32"
      ]
     },
     "execution_count": 18,
     "metadata": {},
     "output_type": "execute_result"
    }
   ],
   "source": [
    "z.head(61)  # starting 5 and last 5 entries."
   ]
  },
  {
   "cell_type": "markdown",
   "metadata": {},
   "source": [
    "#       2.    Tail()\n",
    "down to up"
   ]
  },
  {
   "cell_type": "code",
   "execution_count": 21,
   "metadata": {},
   "outputs": [
    {
     "data": {
      "text/plain": [
       "995    67\n",
       "996    59\n",
       "997    41\n",
       "998    90\n",
       "999    11\n",
       "dtype: int32"
      ]
     },
     "execution_count": 21,
     "metadata": {},
     "output_type": "execute_result"
    }
   ],
   "source": [
    "z.tail() # byedefault 5 entries"
   ]
  },
  {
   "cell_type": "code",
   "execution_count": 22,
   "metadata": {},
   "outputs": [
    {
     "data": {
      "text/plain": [
       "940    91\n",
       "941    85\n",
       "942    97\n",
       "943    41\n",
       "944    37\n",
       "945    34\n",
       "946    71\n",
       "947    11\n",
       "948    22\n",
       "949    37\n",
       "950    51\n",
       "951     6\n",
       "952    24\n",
       "953    77\n",
       "954    84\n",
       "955    79\n",
       "956     5\n",
       "957    17\n",
       "958    30\n",
       "959    41\n",
       "960    73\n",
       "961    74\n",
       "962    49\n",
       "963    86\n",
       "964    18\n",
       "965    15\n",
       "966    19\n",
       "967    11\n",
       "968    34\n",
       "969    29\n",
       "970    73\n",
       "971    98\n",
       "972    42\n",
       "973    19\n",
       "974    65\n",
       "975    91\n",
       "976    57\n",
       "977     8\n",
       "978    34\n",
       "979    78\n",
       "980    94\n",
       "981    95\n",
       "982    41\n",
       "983    70\n",
       "984    72\n",
       "985    25\n",
       "986    66\n",
       "987    74\n",
       "988    21\n",
       "989    85\n",
       "990    83\n",
       "991    90\n",
       "992    20\n",
       "993    82\n",
       "994    65\n",
       "995    67\n",
       "996    59\n",
       "997    41\n",
       "998    90\n",
       "999    11\n",
       "dtype: int32"
      ]
     },
     "execution_count": 22,
     "metadata": {},
     "output_type": "execute_result"
    }
   ],
   "source": [
    "z.tail(60) # max to max limit is 60"
   ]
  },
  {
   "cell_type": "code",
   "execution_count": 23,
   "metadata": {},
   "outputs": [
    {
     "data": {
      "text/plain": [
       "939    71\n",
       "940    91\n",
       "941    85\n",
       "942    97\n",
       "943    41\n",
       "       ..\n",
       "995    67\n",
       "996    59\n",
       "997    41\n",
       "998    90\n",
       "999    11\n",
       "Length: 61, dtype: int32"
      ]
     },
     "execution_count": 23,
     "metadata": {},
     "output_type": "execute_result"
    }
   ],
   "source": [
    "z.tail(61)"
   ]
  },
  {
   "cell_type": "markdown",
   "metadata": {},
   "source": [
    "# 3. Memory_usage"
   ]
  },
  {
   "cell_type": "code",
   "execution_count": 24,
   "metadata": {},
   "outputs": [
    {
     "data": {
      "text/plain": [
       "212"
      ]
     },
     "execution_count": 24,
     "metadata": {},
     "output_type": "execute_result"
    }
   ],
   "source": [
    "x.memory_usage()  # memory used on byte"
   ]
  },
  {
   "cell_type": "code",
   "execution_count": 26,
   "metadata": {},
   "outputs": [
    {
     "data": {
      "text/plain": [
       "4132"
      ]
     },
     "execution_count": 26,
     "metadata": {},
     "output_type": "execute_result"
    }
   ],
   "source": [
    "z.memory_usage()"
   ]
  }
 ],
 "metadata": {
  "kernelspec": {
   "display_name": "Python 3",
   "language": "python",
   "name": "python3"
  },
  "language_info": {
   "codemirror_mode": {
    "name": "ipython",
    "version": 3
   },
   "file_extension": ".py",
   "mimetype": "text/x-python",
   "name": "python",
   "nbconvert_exporter": "python",
   "pygments_lexer": "ipython3",
   "version": "3.13.0"
  }
 },
 "nbformat": 4,
 "nbformat_minor": 2
}

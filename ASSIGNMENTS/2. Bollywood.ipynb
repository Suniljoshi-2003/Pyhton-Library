{
 "cells": [
  {
   "cell_type": "markdown",
   "metadata": {},
   "source": [
    "# BOLLYWOOD ASSIGNMENT"
   ]
  },
  {
   "cell_type": "code",
   "execution_count": 5,
   "metadata": {},
   "outputs": [
    {
     "name": "stdout",
     "output_type": "stream",
     "text": [
      "     SlNo Release Date                    MovieName ReleaseTime      Genre  \\\n",
      "0       1    18-Apr-14                     2 States          LW    Romance   \n",
      "1       2     4-Jan-13                 Table No. 21           N  Thriller    \n",
      "2       3    18-Jul-14           Amit Sahni Ki List           N     Comedy   \n",
      "3       4     4-Jan-13             Rajdhani Express           N     Drama    \n",
      "4       5     4-Jul-14                 Bobby Jasoos           N     Comedy   \n",
      "..    ...          ...                          ...         ...        ...   \n",
      "144   145    27-Feb-15           Dum Laga Ke Haisha           N     Comedy   \n",
      "145   146    13-Mar-15                         NH10           N   Thriller   \n",
      "146   147    20-Mar-15  Dilliwali Zaalim Girlfriend           N     Comedy   \n",
      "147   148    20-Mar-15                     Hunterrr           N     Comedy   \n",
      "148   149    23-May-14                Kochadaiiyaan          HS     Action   \n",
      "\n",
      "     Budget  BoxOfficeCollection  YoutubeViews  YoutubeLikes  YoutubeDislikes  \n",
      "0        36               104.00       8576361         26622             2527  \n",
      "1        10                12.00       1087320          1129              137  \n",
      "2        10                 4.00        572336           586               54  \n",
      "3         7                 0.35         42626            86               19  \n",
      "4        18                10.80       3113427          4512             1224  \n",
      "..      ...                  ...           ...           ...              ...  \n",
      "144      15                30.00       3250917          8185              615  \n",
      "145      13                32.10       5592977         15464             1513  \n",
      "146      32                12.00       2316047          4289              807  \n",
      "147       5                11.89       4674795          3706              762  \n",
      "148     150               120.00       4740727         13466             2649  \n",
      "\n",
      "[149 rows x 10 columns]\n"
     ]
    }
   ],
   "source": [
    "import pandas as pd\n",
    "\n",
    "# lode the data \n",
    "bwd = pd.read_csv(r'C:\\Users\\lenovo\\ADVANCE PYTHON (Ravi sir)\\Data\\bollywood.csv')\n",
    "\n",
    "print(bwd)\n"
   ]
  },
  {
   "cell_type": "markdown",
   "metadata": {},
   "source": [
    "1.\tHow many records are present in the dataset? Print the metadata information of the dataset?"
   ]
  },
  {
   "cell_type": "code",
   "execution_count": 10,
   "metadata": {},
   "outputs": [
    {
     "name": "stdout",
     "output_type": "stream",
     "text": [
      "<class 'pandas.core.frame.DataFrame'>\n",
      "RangeIndex: 149 entries, 0 to 148\n",
      "Data columns (total 10 columns):\n",
      " #   Column               Non-Null Count  Dtype  \n",
      "---  ------               --------------  -----  \n",
      " 0   SlNo                 149 non-null    int64  \n",
      " 1   Release Date         149 non-null    object \n",
      " 2   MovieName            149 non-null    object \n",
      " 3   ReleaseTime          149 non-null    object \n",
      " 4   Genre                149 non-null    object \n",
      " 5   Budget               149 non-null    int64  \n",
      " 6   BoxOfficeCollection  149 non-null    float64\n",
      " 7   YoutubeViews         149 non-null    int64  \n",
      " 8   YoutubeLikes         149 non-null    int64  \n",
      " 9   YoutubeDislikes      149 non-null    int64  \n",
      "dtypes: float64(1), int64(5), object(4)\n",
      "memory usage: 11.8+ KB\n"
     ]
    }
   ],
   "source": [
    "bwd.info()"
   ]
  },
  {
   "cell_type": "markdown",
   "metadata": {},
   "source": [
    "2.\tHow many movies got released in each genre? Which genre had highest number of releases?\n",
    "Sort number of releases in each genre in descending order."
   ]
  },
  {
   "cell_type": "code",
   "execution_count": 24,
   "metadata": {},
   "outputs": [
    {
     "data": {
      "text/plain": [
       "<bound method IndexOpsMixin.value_counts of 0        Romance\n",
       "1      Thriller \n",
       "2         Comedy\n",
       "3         Drama \n",
       "4         Comedy\n",
       "         ...    \n",
       "144       Comedy\n",
       "145     Thriller\n",
       "146       Comedy\n",
       "147       Comedy\n",
       "148       Action\n",
       "Name: Genre, Length: 149, dtype: object>"
      ]
     },
     "execution_count": 24,
     "metadata": {},
     "output_type": "execute_result"
    }
   ],
   "source": [
    "total_Genre = bwd['Genre'].value_counts\n",
    "total_Genre"
   ]
  },
  {
   "cell_type": "markdown",
   "metadata": {},
   "source": [
    "3.\tHow Many movies in each genre got released in different release times like long weekend,\n",
    "festive season ,etc. (Note: Do a cross tabulation between Genre and ReleaseTime.)"
   ]
  },
  {
   "cell_type": "code",
   "execution_count": null,
   "metadata": {},
   "outputs": [],
   "source": []
  },
  {
   "cell_type": "markdown",
   "metadata": {},
   "source": [
    "4.\tWhich month of the year, maximum number movie releases are seen? (Note: Extract a new column\n",
    "                                                                      called month from ReleaseDate column.)"
   ]
  },
  {
   "cell_type": "code",
   "execution_count": null,
   "metadata": {},
   "outputs": [],
   "source": []
  },
  {
   "cell_type": "markdown",
   "metadata": {},
   "source": [
    "5.\tWhich month of the year typically sees most releases of high budgeted movies, that is, movies with \n",
    "budget of 25 crore or more?"
   ]
  },
  {
   "cell_type": "code",
   "execution_count": null,
   "metadata": {},
   "outputs": [],
   "source": []
  },
  {
   "cell_type": "markdown",
   "metadata": {},
   "source": [
    "6.\tWhich are the top 10 movies with maximum return on investment (ROI)? Calculate return on investment\n",
    "(ROI) as (BoxOfficeCollection-Budget) / Budget."
   ]
  },
  {
   "cell_type": "code",
   "execution_count": null,
   "metadata": {},
   "outputs": [],
   "source": []
  },
  {
   "cell_type": "markdown",
   "metadata": {},
   "source": [
    "7.\tDo the movies have higher ROI if they get released on festive season or long weekend? Calculate\n",
    "the average ROI for different release times."
   ]
  }
 ],
 "metadata": {
  "kernelspec": {
   "display_name": "Python 3",
   "language": "python",
   "name": "python3"
  },
  "language_info": {
   "codemirror_mode": {
    "name": "ipython",
    "version": 3
   },
   "file_extension": ".py",
   "mimetype": "text/x-python",
   "name": "python",
   "nbconvert_exporter": "python",
   "pygments_lexer": "ipython3",
   "version": "3.13.0"
  }
 },
 "nbformat": 4,
 "nbformat_minor": 2
}
